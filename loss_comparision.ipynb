{
  "cells": [
    {
      "cell_type": "markdown",
      "metadata": {
        "id": "view-in-github",
        "colab_type": "text"
      },
      "source": [
        "<a href=\"https://colab.research.google.com/github/Rakshithbodakuntla/Tensor_Manipulations-/blob/main/loss_comparision.ipynb\" target=\"_parent\"><img src=\"https://colab.research.google.com/assets/colab-badge.svg\" alt=\"Open In Colab\"/></a>"
      ]
    },
    {
      "cell_type": "code",
      "source": [
        "import numpy as np\n",
        "import matplotlib.pyplot as plt\n",
        "import tensorflow as tf\n",
        "\n",
        "# 1. True and predicted values\n",
        "y_true = tf.constant([[0., 1., 0.]])\n",
        "y_pred1 = tf.constant([[0.2, 0.7, 0.1]])\n",
        "y_pred2 = tf.constant([[0.3, 0.6, 0.1]])  # Slight change\n",
        "\n",
        "# 2. Compute MSE and CCE\n",
        "mse1 = tf.keras.losses.MeanSquaredError()(y_true, y_pred1).numpy()\n",
        "mse2 = tf.keras.losses.MeanSquaredError()(y_true, y_pred2).numpy()\n",
        "\n",
        "cce1 = tf.keras.losses.CategoricalCrossentropy()(y_true, y_pred1).numpy()\n",
        "cce2 = tf.keras.losses.CategoricalCrossentropy()(y_true, y_pred2).numpy()\n",
        "\n",
        "print(\"MSE1:\", mse1, \"CCE1:\", cce1)\n",
        "print(\"MSE2:\", mse2, \"CCE2:\", cce2)\n"
      ],
      "metadata": {
        "colab": {
          "base_uri": "https://localhost:8080/"
        },
        "id": "51xMvaWcR2n3",
        "outputId": "0ea71411-1441-4e90-e9f7-b0809b2edabf"
      },
      "execution_count": 1,
      "outputs": [
        {
          "output_type": "stream",
          "name": "stdout",
          "text": [
            "MSE1: 0.04666667 CCE1: 0.35667497\n",
            "MSE2: 0.086666666 CCE2: 0.5108256\n"
          ]
        }
      ]
    },
    {
      "cell_type": "markdown",
      "source": [
        "# New Section"
      ],
      "metadata": {
        "id": "cx_PNZ8zRwSr"
      }
    },
    {
      "cell_type": "code",
      "source": [
        "labels = ['MSE1', 'MSE2', 'CCE1', 'CCE2']\n",
        "values = [mse1, mse2, cce1, cce2]\n",
        "\n",
        "plt.bar(labels, values, color=['blue', 'blue', 'green', 'green'])\n",
        "plt.title(\"Loss Comparison\")\n",
        "plt.ylabel(\"Loss Value\")\n",
        "plt.show()\n"
      ],
      "metadata": {
        "colab": {
          "base_uri": "https://localhost:8080/",
          "height": 452
        },
        "id": "I78lmH7wSrR-",
        "outputId": "c9ccfc98-d5f8-4d01-902c-6b3c01728a86"
      },
      "execution_count": 2,
      "outputs": [
        {
          "output_type": "display_data",
          "data": {
            "text/plain": [
              "<Figure size 640x480 with 1 Axes>"
            ],
            "image/png": "[encoded data removed]"
          },
          "metadata": {}
        }
      ]
    }
  ],
  "metadata": {
    "colab": {
      "name": "Welcome To Colab",
      "toc_visible": true,
      "provenance": [],
      "include_colab_link": true
    },
    "kernelspec": {
      "display_name": "Python 3",
      "name": "python3"
    }
  },
  "nbformat": 4,
  "nbformat_minor": 0
}
{
 "cells": [
  {
   "cell_type": "code",
   "execution_count": 1,
   "id": "c7c636f9-3a44-4e1c-9a6d-26aabd5c48de",
   "metadata": {},
   "outputs": [],
   "source": [
    "import tensorflow as tf\n"
   ]
  },
  {
   "cell_type": "code",
   "execution_count": 2,
   "id": "155efb85-ed8c-48b3-947d-37c69fcd3d08",
   "metadata": {},
   "outputs": [],
   "source": [
    "tensor = tf.random.uniform(shape=(4, 6))"
   ]
  },
  {
   "cell_type": "code",
   "execution_count": 3,
   "id": "e04f555c-d7e5-41bc-9a4b-4e34ca9a8e42",
   "metadata": {},
   "outputs": [],
   "source": [
    "rank_before = tf.rank(tensor)\n",
    "shape_before = tf.shape(tensor)"
   ]
  },
  {
   "cell_type": "code",
   "execution_count": 4,
   "id": "9e23b34f-9a7e-48cf-8e05-c78796dd5c20",
   "metadata": {},
   "outputs": [],
   "source": [
    "reshaped_tensor = tf.reshape(tensor, (2, 3, 4))\n",
    "transposed_tensor = tf.transpose(reshaped_tensor, perm=[1, 0, 2])"
   ]
  },
  {
   "cell_type": "code",
   "execution_count": 5,
   "id": "d25c81f5-3251-4931-a3bd-b5f0a4eccbf3",
   "metadata": {},
   "outputs": [],
   "source": [
    "small_tensor = tf.constant([[1, 2, 3, 4]], dtype=tf.float32)  # Force float32 type\n",
    "broadcasted = transposed_tensor + small_tensor"
   ]
  },
  {
   "cell_type": "code",
   "execution_count": 6,
   "id": "1df63b4d-95ce-48d1-ba5e-e3805dba64b3",
   "metadata": {},
   "outputs": [
    {
     "name": "stdout",
     "output_type": "stream",
     "text": [
      "Original Tensor Rank: 2\n",
      "Original Tensor Shape: [4 6]\n",
      "After Reshaping to (2, 3, 4): (2, 3, 4)\n",
      "After Transposing to (3, 2, 4): (3, 2, 4)\n",
      "Broadcasted Addition Result Shape: (3, 2, 4)\n"
     ]
    }
   ],
   "source": [
    "print(\"Original Tensor Rank:\", rank_before.numpy())\n",
    "print(\"Original Tensor Shape:\", shape_before.numpy())\n",
    "print(\"After Reshaping to (2, 3, 4):\", reshaped_tensor.shape)\n",
    "print(\"After Transposing to (3, 2, 4):\", transposed_tensor.shape)\n",
    "print(\"Broadcasted Addition Result Shape:\", broadcasted.shape)\n"
   ]
  },
  {
   "cell_type": "code",
   "execution_count": null,
   "id": "222723a0-668a-4646-9de3-f7c74f4f1cf1",
   "metadata": {},
   "outputs": [],
   "source": []
  }
 ],
 "metadata": {
  "kernelspec": {
   "display_name": "Python 3 (ipykernel)",
   "language": "python",
   "name": "python3"
  },
  "language_info": {
   "codemirror_mode": {
    "name": "ipython",
    "version": 3
   },
   "file_extension": ".py",
   "mimetype": "text/x-python",
   "name": "python",
   "nbconvert_exporter": "python",
   "pygments_lexer": "ipython3",
   "version": "3.12.6"
  }
 },
 "nbformat": 4,
 "nbformat_minor": 5
}
